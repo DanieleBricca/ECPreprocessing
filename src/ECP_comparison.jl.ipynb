{
 "cells": [
  {
   "cell_type": "markdown",
   "metadata": {},
   "source": [
    "Importing packages"
   ]
  },
  {
   "cell_type": "code",
   "execution_count": null,
   "metadata": {},
   "outputs": [],
   "source": [
    "using Plots\n",
    "using XLSX\n",
    "using YAML\n",
    "using CSV\n",
    "using DataFrames\n",
    "using Statistics\n",
    "using StatsBase\n",
    "using Dates"
   ]
  },
  {
   "cell_type": "markdown",
   "metadata": {},
   "source": [
    "Importing data"
   ]
  },
  {
   "cell_type": "code",
   "execution_count": null,
   "metadata": {},
   "outputs": [],
   "source": [
    "# Read CSV files and convert to DataFrame\n",
    "size_ARERA = \"1_5_a_3\"\n",
    "#size_ARERA = \"3_a_4_5\"\n",
    "\n",
    "# Define the file path\n",
    "general_path = @__DIR__\n",
    "# The original one was \"../results/Dati/GSE_profiles_resident_v0_1_3_power.csv\"\n",
    "relative_path_GSE = \"../results/Dati/GSE_profiles_resident_v1_Antrodoco.csv\"\n",
    "relative_path_GSE_2 = \"../results/Dati/GSE_profiles_resident_v0_all_power.csv\"\n",
    "relative_path_GSE_3 = \"../results/Dati/GSE_profiles_resident_v0_all_power_average.csv\"\n",
    "relative_path_ARERA = \"../results/Dati/ARERA_profiles$size_ARERA.csv\"\n",
    "relative_path_Antrodoco = \"../data/Antrodoco_average.csv\"\n",
    "\n",
    "file_GSE= joinpath(general_path,relative_path_GSE)\n",
    "file_GSE_2= joinpath(general_path,relative_path_GSE_2)\n",
    "file_GSE_3= joinpath(general_path,relative_path_GSE_3)\n",
    "file_ARERA= joinpath(general_path,relative_path_ARERA)\n",
    "file_Antrodoco= joinpath(general_path,relative_path_Antrodoco)\n",
    "\n",
    "# Read data from the CSV\n",
    "GSE_profiles= DataFrame(CSV.File(file_GSE))\n",
    "GSE_profiles_2= DataFrame(CSV.File(file_GSE_2))\n",
    "GSE_profiles_3= DataFrame(CSV.File(file_GSE_3))\n",
    "ARERA_profiles= DataFrame(CSV.File(file_ARERA))\n",
    "Antrodoco_profiles= DataFrame(CSV.File(file_Antrodoco))\n",
    "\n",
    "# Substract 1 from \"ora\" column\n",
    "Antrodoco_profiles.ora = Antrodoco_profiles.ora .- 1\n",
    "\n",
    "# Show first 20 rows of all four DataFrame\n",
    "first(Antrodoco_profiles, 20)"
   ]
  },
  {
   "cell_type": "markdown",
   "metadata": {},
   "source": [
    "# Unite the dataframes"
   ]
  },
  {
   "cell_type": "code",
   "execution_count": null,
   "metadata": {},
   "outputs": [],
   "source": [
    "# Create a new dataframe with the merge of the two dataframes\n",
    "df_comparison = DataFrame(Mese = Int64[], Giorno = Int64[], Ora = Int64[], GSE_1_3_power = Float64[], GSE_all_power = Float64[], GSE_all_power_average = Float64[], ARERA = Float64[])\n",
    "\n",
    "for i in 1:size(GSE_profiles,1)\n",
    "    for j in 1:size(ARERA_profiles,1)\n",
    "        if GSE_profiles[i,:Mese] == ARERA_profiles[j,:Mese] && GSE_profiles[i,:Giorno] == ARERA_profiles[j,:Giorno] && GSE_profiles[i,:Ora] == (ARERA_profiles[j,:Ora] - 1)\n",
    "            push!(df_comparison, [GSE_profiles[i,:Mese], GSE_profiles[i,:Giorno], GSE_profiles[i,:Ora], \n",
    "            GSE_profiles[i,:PDMM], GSE_profiles_2[i,:PDMM], GSE_profiles_3[i,:PDMM], ARERA_profiles[j,:Valore_orario]])\n",
    "        end\n",
    "    end\n",
    "end\n",
    "\n",
    "# Aggiungi una nuova colonna al DataFrame\n",
    "insertcols!(df_comparison, :Antrodoco => Antrodoco_profiles[:,\"media profilo std\"])\n",
    "\n",
    "# Show the first 20 rows of the new DataFrame\n",
    "first(df_comparison, 20)\n",
    "\n",
    "# Calculate the consumption over the month for each profile and add it to a new dataframe called monthly consumption\n",
    "monthly_consumption = DataFrame(Mese = Int64[], GSE_1_3_power = Float64[], GSE_all_power = Float64[], GSE_all_power_average = Float64[], ARERA = Float64[], Antrodoco = Float64[])\n",
    "for i in 1:12\n",
    "    push!(monthly_consumption, [i, sum(df_comparison[df_comparison.Mese .== i, :GSE_1_3_power]), sum(df_comparison[df_comparison.Mese .== i, :GSE_all_power]), sum(df_comparison[df_comparison.Mese .== i, :GSE_all_power_average]), sum(df_comparison[df_comparison.Mese .== i, :ARERA]), sum(df_comparison[df_comparison.Mese .== i, :Antrodoco])])\n",
    "end\n",
    "\n",
    "show(monthly_consumption, allcols=true)"
   ]
  },
  {
   "cell_type": "markdown",
   "metadata": {},
   "source": [
    "# Plot"
   ]
  },
  {
   "cell_type": "code",
   "execution_count": null,
   "metadata": {},
   "outputs": [],
   "source": [
    "# Show month 1 and month 6 of the new DataFrame\n",
    "p0 = plot(xlab = \"Ora\", ylab = \"Potenza [kW]\", legend = :topleft)\n",
    "\n",
    "#Selezione dei mesi e del giorno [21 o 22] per il plot\n",
    "df_selected = df_comparison[((df_comparison.Mese .== 11)) .& (df_comparison.Giorno .== 10), :]\n",
    "\n",
    "# Plotta i dati\n",
    "i = unique(df_selected.Mese)\n",
    "subset = df_selected[df_selected.Mese .== i, :]\n",
    "plot!(p0, subset.Ora, subset.Antrodoco, label = \"Antrodoco Mese $i\", color = :blue, line = :solid)\n",
    "plot!(p0, subset.Ora, subset.ARERA, label = \"ARERA Mese $i\", color = :black, line = :dash)\n",
    "plot!(p0, subset.Ora, subset.GSE_1_3_power, label = \"GSE Mese $i\", color = :green, line = :dash)\n",
    "plot!(p0, subset.Ora, subset.GSE_all_power, label = \"GSE Mese $i\", color = :red, line = :dash)\n",
    "\n",
    "# Mostra il plot\n",
    "display(p0)\n",
    "\n",
    "# Salva il plot\n",
    "savefig(joinpath(general_path,\"../results/Immagini/Comparison_Mese_$i.png\"))"
   ]
  },
  {
   "cell_type": "markdown",
   "metadata": {},
   "source": [
    "Data analysis on MEAN and RMSE"
   ]
  },
  {
   "cell_type": "code",
   "execution_count": null,
   "metadata": {},
   "outputs": [],
   "source": [
    "# Calculate the MAD (mean absolute difference) of the difference between the two profiles\n",
    "mad1 = mean(abs.(df_comparison[!,\"GSE_1_3_power\"] .- df_comparison[!,\"Antrodoco\"]))\n",
    "mad2 = mean(abs.(df_comparison[!,\"GSE_all_power\"] .- df_comparison[!,\"Antrodoco\"]))\n",
    "mad3 = mean(abs.(df_comparison[!,\"GSE_all_power_average\"] .- df_comparison[!,\"Antrodoco\"]))\n",
    "mad4 = mean(abs.(df_comparison[!,\"ARERA\"] .- df_comparison[!,\"Antrodoco\"]))\n",
    "\n",
    "# Calcola il RMSE tra due vettori x e y\n",
    "rmse1 = sqrt(mean((df_comparison[!,\"GSE_1_3_power\"] .- df_comparison[!,\"Antrodoco\"]).^2))\n",
    "rmse2 = sqrt(mean((df_comparison[!,\"GSE_all_power\"] .- df_comparison[!,\"Antrodoco\"]).^2))\n",
    "rmse3 = sqrt(mean((df_comparison[!,\"GSE_all_power_average\"] .- df_comparison[!,\"Antrodoco\"]).^2))\n",
    "rmse4 = sqrt(mean((df_comparison[!,\"ARERA\"] .- df_comparison[!,\"Antrodoco\"]).^2))\n",
    "\n",
    "# Arrotonda i risultati alla quinta cifra decimale e stampali\n",
    "println(\"Mean Absolute Difference [kWh]: \\n\", \"GSE 1-3 power: \", round(mad1, digits=5), \"\\nGSE all power: \", round(mad2, digits=5), \"\\nGSE all power average: \", round(mad3, digits=5), \"\\nARERA: \", round(mad4, digits=5))\n",
    "println(\"Root Mean Squared Error [kWh]: \\n\", \"GSE 1-3 power \", round(rmse1, digits=5), \"\\nGSE all power \", round(rmse2, digits=5), \"\\nGSE all power average \", round(rmse3, digits=5), \"\\nARERA \", round(rmse4, digits=5))\n"
   ]
  },
  {
   "cell_type": "markdown",
   "metadata": {},
   "source": [
    "Comparison of hourly consumption during central hours to understand the sharing electricity between the three profiles"
   ]
  },
  {
   "cell_type": "code",
   "execution_count": null,
   "metadata": {},
   "outputs": [],
   "source": [
    "# Filtra i dati per le ore centrali del giorno\n",
    "df_central_hours = df_comparison[(df_comparison.Ora .>= 7) .& (df_comparison.Ora .<= 17), :]\n",
    "\n",
    "# Raggruppa i dati per mese\n",
    "groups = groupby(df_central_hours, :Mese)\n",
    "\n",
    "# Calcola la somma delle potenze per ogni gruppo\n",
    "df_sum = combine(groups, :GSE_1_3_power => sum => :F1_GSE_1_3_power, :GSE_all_power => sum => :F1_GSE_all_power, :GSE_all_power_average => sum => :F1_GSE_all_power_average, :ARERA => sum => :F1_ARERA, :Antrodoco => sum => :F1_Antrodoco)\n",
    "\n",
    "# Mostra il DataFrame risultante\n",
    "df_sum\n",
    "\n",
    "# Calcola quanto si discostano i consumi medi mensili dalle ore centrali del giorno rispetto a F1_Antrodoco\n",
    "mad1 = mean(abs.(df_sum[!,\"F1_GSE_1_3_power\"] .- df_sum[!,\"F1_Antrodoco\"]))\n",
    "mad2 = mean(abs.(df_sum[!,\"F1_GSE_all_power\"] .- df_sum[!,\"F1_Antrodoco\"]))\n",
    "mad3 = mean(abs.(df_sum[!,\"F1_GSE_all_power_average\"] .- df_sum[!,\"F1_Antrodoco\"]))\n",
    "mad4 = mean(abs.(df_sum[!,\"F1_ARERA\"] .- df_sum[!,\"F1_Antrodoco\"]))\n",
    "println(\"Mean Absolute Difference [kWh]: \\n\", \"GSE 1-3 power: \", round(mad1, digits=5), \"\\nGSE all power: \", round(mad2, digits=5), \"\\nGSE all power average: \", round(mad3, digits=5), \"\\nARERA: \", round(mad4, digits=5))\n",
    "\n",
    "# Calcola il RMSE tra due vettori x e y\n",
    "rmse1 = sqrt(mean((df_sum[!,\"F1_GSE_1_3_power\"] .- df_sum[!,\"F1_Antrodoco\"]).^2))\n",
    "rmse2 = sqrt(mean((df_sum[!,\"F1_GSE_all_power\"] .- df_sum[!,\"F1_Antrodoco\"]).^2))\n",
    "rmse3 = sqrt(mean((df_sum[!,\"F1_GSE_all_power_average\"] .- df_sum[!,\"F1_Antrodoco\"]).^2))\n",
    "rmse4 = sqrt(mean((df_sum[!,\"F1_ARERA\"] .- df_sum[!,\"F1_Antrodoco\"]).^2))\n",
    "println(\"Root Mean Squared Error [kWh]: \\n\", \"GSE 1-3 power \", round(rmse1, digits=5), \"\\nGSE all power \", round(rmse2, digits=5), \"\\nGSE all power average \", round(rmse3, digits=5), \"\\nARERA \", round(rmse4, digits=5))"
   ]
  }
 ],
 "metadata": {
  "kernelspec": {
   "display_name": "Julia 1.8.5",
   "language": "julia",
   "name": "julia-1.8"
  },
  "language_info": {
   "file_extension": ".jl",
   "mimetype": "application/julia",
   "name": "julia",
   "version": "1.8.5"
  }
 },
 "nbformat": 4,
 "nbformat_minor": 2
}
